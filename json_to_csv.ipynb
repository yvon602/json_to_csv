{
 "cells": [
  {
   "cell_type": "code",
   "execution_count": 1,
   "metadata": {},
   "outputs": [],
   "source": [
    "import json\n",
    "import csv\n",
    "import time"
   ]
  },
  {
   "cell_type": "code",
   "execution_count": 2,
   "metadata": {},
   "outputs": [],
   "source": [
    "filename='journeySet_3Jun-10Jun.json'"
   ]
  },
  {
   "cell_type": "code",
   "execution_count": 3,
   "metadata": {},
   "outputs": [],
   "source": [
    "file = open(filename, 'r', encoding='utf-8')\n",
    "array = []\n",
    "for line in file.readlines():\n",
    "    dic = json.loads(line)\n",
    "    array.append(dic)"
   ]
  },
  {
   "cell_type": "code",
   "execution_count": 4,
   "metadata": {},
   "outputs": [],
   "source": [
    "my_dict=array[0] # first in array\n",
    "out=[]\n",
    "def search_obj(x):\n",
    "    def search(obj,name=''):\n",
    "        if type(obj) is dict:\n",
    "            for key in obj.keys():\n",
    "                search(obj[key],name+key+'_')\n",
    "        elif type(obj) is list:\n",
    "            try:\n",
    "                search(obj[0],name)\n",
    "            except IndexError:\n",
    "                out.append(name[:-1])\n",
    "        else:\n",
    "            if name!='': out.append(name[:-1])\n",
    "    search(x)\n",
    "    return out\n",
    "keySet=list(set(search_obj(my_dict)))"
   ]
  },
  {
   "cell_type": "code",
   "execution_count": 5,
   "metadata": {},
   "outputs": [
    {
     "data": {
      "text/plain": [
       "['license',\n",
       " 'startTime_$numberLong',\n",
       " 'records_currentState_accuracy_$numberDouble',\n",
       " 'records_version_$numberInt',\n",
       " 'records_currentState_journeyStartTime_$numberLong',\n",
       " 'records_network_tx_$numberInt',\n",
       " 'records_currentState_location_lng_$numberDouble',\n",
       " 'seq_$numberInt',\n",
       " 'records_currentState_intervalTimeDifference_$numberInt',\n",
       " 'records_currentState_speed_$numberDouble',\n",
       " 'records_currentState_seat_available_$numberInt',\n",
       " 'records_currentState_journeyId_$oid',\n",
       " 'records_currentState_satelliteNum_$numberInt',\n",
       " 'records_currentState_seat_seatSensorData',\n",
       " 'records_route',\n",
       " 'records_currentState_location_lat_$numberDouble',\n",
       " 'route',\n",
       " 'records_currentState_passedStation_$numberInt',\n",
       " 'records_active',\n",
       " 'records_currentState_provider',\n",
       " '_id_$oid',\n",
       " 'records_currentState_outRoute_$numberInt',\n",
       " 'records_currentState_stationTimeDifference_$numberInt',\n",
       " 'records_currentState_seq_$numberInt',\n",
       " 'records_network_rx_$numberInt',\n",
       " 'records_lastUpdate_$numberLong',\n",
       " 'records_receiveTime_$numberLong',\n",
       " 'records_license',\n",
       " 'records___v_$numberInt',\n",
       " 'records_currentState_interval_$numberInt',\n",
       " 'records_currentState_timePassedInterval_$numberLong',\n",
       " 'records__id_$oid',\n",
       " 'records_batteryLeft_$numberInt',\n",
       " 'records_currentState_seat_doorStatus',\n",
       " 'records_justBooted',\n",
       " '__v_$numberInt']"
      ]
     },
     "execution_count": 5,
     "metadata": {},
     "output_type": "execute_result"
    }
   ],
   "source": [
    "keySet"
   ]
  },
  {
   "cell_type": "code",
   "execution_count": 6,
   "metadata": {},
   "outputs": [],
   "source": [
    "finalDict={}\n",
    "for key in keySet:\n",
    "#     if not (key == 'records_currentState_seat_seatSensorData' or key =='records_currentState_probeInfo'): # data unavailable for these keys\n",
    "    finalDict[key]=[]"
   ]
  },
  {
   "cell_type": "code",
   "execution_count": 7,
   "metadata": {},
   "outputs": [
    {
     "name": "stdout",
     "output_type": "stream",
     "text": [
      "Time Elasped: 88.84339427947998 seconds\n"
     ]
    }
   ],
   "source": [
    "def get_value_from_obj(x):\n",
    "    def get_value(obj,name=''):\n",
    "        if type(obj) is dict:\n",
    "            for key in obj.keys():\n",
    "                get_value(obj[key],name+key+'_')\n",
    "        elif type(obj) is list:\n",
    "            for i in range(len(obj)):\n",
    "                try:\n",
    "                    get_value(obj[i],name)\n",
    "                except IndexError:\n",
    "                    if name[:-1] in finalDict: finalDict[name[:-1]].append(obj)\n",
    "        else:\n",
    "            if name[:-1] in finalDict: finalDict[name[:-1]].append(obj)\n",
    "    get_value(x)\n",
    "starttime=time.time()\n",
    "for i in range(len(array)):\n",
    "    obj=array[i]\n",
    "    get_value_from_obj(obj)\n",
    "print('Time Elasped: %s seconds'%(time.time()-starttime))"
   ]
  },
  {
   "cell_type": "code",
   "execution_count": 10,
   "metadata": {},
   "outputs": [],
   "source": [
    "largestLength=len(finalDict['records_currentState_journeyId_$oid'])"
   ]
  },
  {
   "cell_type": "code",
   "execution_count": 11,
   "metadata": {
    "scrolled": true
   },
   "outputs": [],
   "source": [
    "for key in list(finalDict.keys()):\n",
    "    if len(finalDict[key])!=largestLength:\n",
    "        finalDict.pop(key, None)\n",
    "        continue\n",
    "    new_key=key.replace('records_currentState_','')\n",
    "    new_key=new_key.replace('records_','')\n",
    "    try:\n",
    "        index=new_key.index('$')\n",
    "        new_key=new_key[:index-1]\n",
    "    except ValueError:\n",
    "        continue\n",
    "    finalDict[new_key] = finalDict.pop(key)"
   ]
  },
  {
   "cell_type": "code",
   "execution_count": 12,
   "metadata": {},
   "outputs": [
    {
     "name": "stdout",
     "output_type": "stream",
     "text": [
      "Time Elasped: 14.403734922409058 seconds\n"
     ]
    }
   ],
   "source": [
    "import csv\n",
    "starttime=time.time()\n",
    "with open(\"%scsv\"%filename[:-4], \"w\", newline='') as outfile:\n",
    "    writer = csv.writer(outfile)\n",
    "    writer.writerow(finalDict.keys())\n",
    "    writer.writerows(zip(*finalDict.values()))\n",
    "print('Time Elasped: %s seconds'%(time.time()-starttime))"
   ]
  },
  {
   "cell_type": "code",
   "execution_count": 13,
   "metadata": {},
   "outputs": [
    {
     "name": "stdout",
     "output_type": "stream",
     "text": [
      "records_route: 958664\n",
      "records_currentState_provider: 958664\n",
      "records_license: 958664\n",
      "records_currentState_seat_doorStatus: 958664\n",
      "journeyStartTime: 958664\n",
      "network_tx: 958664\n",
      "location_lng: 958664\n",
      "intervalTimeDifference: 958664\n",
      "seat_available: 958664\n",
      "journeyId: 958664\n",
      "satelliteNum: 958664\n",
      "location_lat: 958664\n",
      "passedStation: 958664\n",
      "outRoute: 958664\n",
      "seq: 958664\n",
      "network_rx: 958664\n",
      "lastUpdate: 958664\n",
      "receiveTime: 958664\n",
      "__v: 958664\n",
      "interval: 958664\n",
      "timePassedInterval: 958664\n",
      "_id: 958664\n",
      "batteryLeft: 958664\n"
     ]
    }
   ],
   "source": [
    "for key in finalDict.keys():\n",
    "    print('%s: %s'%(key,len(finalDict[key])))"
   ]
  },
  {
   "cell_type": "code",
   "execution_count": null,
   "metadata": {},
   "outputs": [],
   "source": []
  }
 ],
 "metadata": {
  "kernelspec": {
   "display_name": "Python 3",
   "language": "python",
   "name": "python3"
  },
  "language_info": {
   "codemirror_mode": {
    "name": "ipython",
    "version": 3
   },
   "file_extension": ".py",
   "mimetype": "text/x-python",
   "name": "python",
   "nbconvert_exporter": "python",
   "pygments_lexer": "ipython3",
   "version": "3.7.1"
  }
 },
 "nbformat": 4,
 "nbformat_minor": 2
}
